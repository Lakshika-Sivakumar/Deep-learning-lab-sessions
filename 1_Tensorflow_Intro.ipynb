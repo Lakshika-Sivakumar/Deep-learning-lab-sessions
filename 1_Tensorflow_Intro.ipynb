{
  "nbformat": 4,
  "nbformat_minor": 0,
  "metadata": {
    "colab": {
      "provenance": []
    },
    "kernelspec": {
      "name": "python3",
      "display_name": "Python 3"
    },
    "language_info": {
      "name": "python"
    }
  },
  "cells": [
    {
      "cell_type": "code",
      "metadata": {
        "id": "6TrehI3pWj5O"
      },
      "source": [
        "import numpy as np\n",
        "import tensorflow as tf"
      ],
      "execution_count": null,
      "outputs": []
    },
    {
      "cell_type": "code",
      "metadata": {
        "id": "h8F8AbbUWox5"
      },
      "source": [
        "x = tf.Variable(3.0)"
      ],
      "execution_count": null,
      "outputs": []
    },
    {
      "cell_type": "code",
      "metadata": {
        "id": "Us7AOK2sW5Mu"
      },
      "source": [
        "with tf.GradientTape() as tape:\n",
        "  y = x * x"
      ],
      "execution_count": null,
      "outputs": []
    },
    {
      "cell_type": "code",
      "metadata": {
        "id": "Cq4_-TzLXCJ9",
        "colab": {
          "base_uri": "https://localhost:8080/"
        },
        "outputId": "03222652-ac5f-4a2e-ac4a-921af324e1c8"
      },
      "source": [
        "y"
      ],
      "execution_count": null,
      "outputs": [
        {
          "output_type": "execute_result",
          "data": {
            "text/plain": [
              "<tf.Tensor: shape=(), dtype=float32, numpy=9.0>"
            ]
          },
          "metadata": {},
          "execution_count": 4
        }
      ]
    },
    {
      "cell_type": "code",
      "metadata": {
        "id": "QLrhUPtJXEf9",
        "colab": {
          "base_uri": "https://localhost:8080/"
        },
        "outputId": "d6602b66-a233-42fc-f005-332bf901ac25"
      },
      "source": [
        "tape.gradient(y, x)"
      ],
      "execution_count": null,
      "outputs": [
        {
          "output_type": "execute_result",
          "data": {
            "text/plain": [
              "<tf.Tensor: shape=(), dtype=float32, numpy=6.0>"
            ]
          },
          "metadata": {},
          "execution_count": 5
        }
      ]
    },
    {
      "cell_type": "code",
      "metadata": {
        "id": "KqWlmCKhXJt7"
      },
      "source": [
        "x = tf.Variable([\n",
        "  [1.0, -1.0, 2.0, 4.0],\n",
        "  [-2.0, 3.0, -5.0, 9.0],\n",
        "  [4.0, 2.0, 3.0, 9.0],\n",
        "  [1.0, 5.0, 6.0, 3.0],\n",
        "\n",
        "])\n",
        "t = 30.0"
      ],
      "execution_count": null,
      "outputs": []
    },
    {
      "cell_type": "code",
      "metadata": {
        "id": "NpI71-FlXriu"
      },
      "source": [
        "with tf.GradientTape() as tape:\n",
        "  a = tf.nn.max_pool2d(tf.reshape(x, (1, 4, 4, 1)), ksize=2, strides=2, padding=\"VALID\")\n",
        "  b = tf.reduce_sum(a)\n",
        "  error = 0.5 * (b - t) ** 2"
      ],
      "execution_count": null,
      "outputs": []
    },
    {
      "cell_type": "code",
      "metadata": {
        "id": "W3wfJpkmZkig",
        "colab": {
          "base_uri": "https://localhost:8080/"
        },
        "outputId": "8a18e10c-4776-4dc9-9d1c-5df0e06eb616"
      },
      "source": [
        "a"
      ],
      "execution_count": null,
      "outputs": [
        {
          "output_type": "execute_result",
          "data": {
            "text/plain": [
              "<tf.Tensor: shape=(1, 2, 2, 1), dtype=float32, numpy=\n",
              "array([[[[3.],\n",
              "         [9.]],\n",
              "\n",
              "        [[5.],\n",
              "         [9.]]]], dtype=float32)>"
            ]
          },
          "metadata": {},
          "execution_count": 15
        }
      ]
    },
    {
      "cell_type": "code",
      "source": [
        "b"
      ],
      "metadata": {
        "colab": {
          "base_uri": "https://localhost:8080/"
        },
        "id": "Alrsu6npwfet",
        "outputId": "7a7417ba-31a3-42f1-9e67-6b52117d77d5"
      },
      "execution_count": null,
      "outputs": [
        {
          "output_type": "execute_result",
          "data": {
            "text/plain": [
              "<tf.Tensor: shape=(), dtype=float32, numpy=26.0>"
            ]
          },
          "metadata": {},
          "execution_count": 16
        }
      ]
    },
    {
      "cell_type": "code",
      "metadata": {
        "id": "zjAZqAzjX8Gi",
        "colab": {
          "base_uri": "https://localhost:8080/"
        },
        "outputId": "30f18a44-5d87-48df-95db-2ac67dfcb333"
      },
      "source": [
        "error"
      ],
      "execution_count": null,
      "outputs": [
        {
          "output_type": "execute_result",
          "data": {
            "text/plain": [
              "<tf.Tensor: shape=(), dtype=float32, numpy=8.0>"
            ]
          },
          "metadata": {},
          "execution_count": 17
        }
      ]
    },
    {
      "cell_type": "code",
      "metadata": {
        "id": "0JqbjqVEYMta",
        "colab": {
          "base_uri": "https://localhost:8080/"
        },
        "outputId": "953a0aa2-83f1-411d-e1a3-fc225e65c6be"
      },
      "source": [
        "tape.gradient(error, [b, x])"
      ],
      "execution_count": null,
      "outputs": [
        {
          "output_type": "execute_result",
          "data": {
            "text/plain": [
              "[<tf.Tensor: shape=(), dtype=float32, numpy=-4.0>,\n",
              " <tf.Tensor: shape=(4, 4), dtype=float32, numpy=\n",
              " array([[ 0.,  0.,  0.,  0.],\n",
              "        [ 0., -4.,  0., -4.],\n",
              "        [ 0.,  0.,  0., -4.],\n",
              "        [ 0., -4.,  0.,  0.]], dtype=float32)>]"
            ]
          },
          "metadata": {},
          "execution_count": 18
        }
      ]
    },
    {
      "cell_type": "code",
      "source": [],
      "metadata": {
        "id": "_cDt4vgwwTaV"
      },
      "execution_count": null,
      "outputs": []
    }
  ]
}